{
 "cells": [
  {
   "cell_type": "markdown",
   "id": "3bc8de8a",
   "metadata": {},
   "source": [
    "# Machine Learning HW2\n",
   
   ]
  },
  {
   "cell_type": "code",
   "execution_count": 78,
   "id": "06405bda",
   "metadata": {},
   "outputs": [],
   "source": [
    "import pandas as pd\n",
    "import numpy as np\n",
    "import math\n",
    "from math import log\n",
    "from sklearn.metrics import accuracy_score\n",
    "import seaborn as sns \n",
    "import matplotlib.pyplot as plt\n",
    "import warnings\n",
    "warnings.filterwarnings('ignore')"
   ]
  },
  {
   "cell_type": "markdown",
   "id": "af152503",
   "metadata": {},
   "source": [
    "將dataset轉為list，計算label class 個數"
   ]
  },
  {
   "cell_type": "code",
   "execution_count": 8,
   "id": "06708bce",
   "metadata": {},
   "outputs": [],
   "source": [
    "def uniquecounts(rows):\n",
    "    results = {}\n",
    "    for row in rows:\n",
    "        r = row[len(rows[0])-1]  #lable在最後一列       \n",
    "        if r not in results:results[r] = 0\n",
    "        results[r]+=1\n",
    "    return results # 返回字典 lable class個數 ex:{0:398, 1:209}"
   ]
  },
  {
   "cell_type": "code",
   "execution_count": 9,
   "id": "391dc4c9",
   "metadata": {},
   "outputs": [],
   "source": [
    "#entropy\n",
    "def entropy(rows):\n",
    "    results = uniquecounts(rows)\n",
    "    ent = 0.0\n",
    "    for r in results.keys():\n",
    "        p = float(results[r])/len(rows)\n",
    "        ent = ent - p*math.log(p,2)\n",
    "    return ent"
   ]
  },
  {
   "cell_type": "markdown",
   "id": "199b75ec",
   "metadata": {},
   "source": [
    "節點的class"
   ]
  },
  {
   "cell_type": "code",
   "execution_count": 10,
   "id": "619cd430",
   "metadata": {},
   "outputs": [],
   "source": [
    "class decisionnode:\n",
    "    def __init__(self,col = -1,value = None, results = None, tb = None,fb = None, depth = 0):\n",
    "        self.col = col   # feature 的 column index\n",
    "        self.value = value # 該feature拆成2個子集的值\n",
    "        self.results = results #保存node裡label class 個數\n",
    "        self.tb = tb #節點分枝\n",
    "        self.fb = fb #節點分枝\n",
    "        self.depth = depth #節點深度"
   ]
  },
  {
   "cell_type": "markdown",
   "id": "4ab83d82",
   "metadata": {},
   "source": [
    "分成兩個子集，rows為資料集，column是feature index，value是該feature的值，用來分割data。舉例來說:sarlary中的low下去分割資料，col為salary的index，low為value。"
   ]
  },
  {
   "cell_type": "code",
   "execution_count": 11,
   "id": "33e91e3e",
   "metadata": {},
   "outputs": [],
   "source": [
    "def divideset(rows,column,value):\n",
    "    split_function = None #定義函數判斷要分到set1還是set2\n",
    "    if isinstance(value,int) or isinstance(value,float): #value是數值\n",
    "        split_function = lambda row:row[column] >= value\n",
    "    else:\n",
    "        split_function = lambda row:row[column]==value #value是字串\n",
    "    # 將資料拆成兩個subset\n",
    "    set1 = [row for row in rows if split_function(row)]\n",
    "    set2 = [row for row in rows if not split_function(row)]\n",
    "    return(set1,set2)"
   ]
  },
  {
   "cell_type": "code",
   "execution_count": 12,
   "id": "1880969e",
   "metadata": {},
   "outputs": [],
   "source": [
    "#infomation gain\n",
    "\n",
    "def info_gain(rows, set1, set2, scoref=entropy):\n",
    "    current_score = scoref(rows)\n",
    "    p = float(len(set1))/len(rows) #proportion of given feature\n",
    "    gain = current_score - p*scoref(set1) - (1-p)*scoref(set2)\n",
    "    return(gain)\n",
    "\n",
    "#gain_ratio\n",
    "\n",
    "def gain_ratio(rows,  set1, set2, scoref = entropy):\n",
    "\n",
    "    info = info_gain(rows, set1, set2, scoref) #infomation gain of subdata\n",
    "    p1 = float(len(set1))/len(rows)\n",
    "    p2 = float(len(set2))/len(rows)\n",
    "    if p1 == 0 or p2 == 0:\n",
    "        entropy_x = 0\n",
    "        gain_ratio = 0\n",
    "    else:\n",
    "        entropy_x = -p1*math.log(p1,2)-p2*math.log(p2,2)\n",
    "        gain_ratio = info/entropy_x\n",
    "    return(gain_ratio)\n",
    "\n",
    "#gini impurity\n",
    "\n",
    "def giniimpurity(rows):\n",
    "    total = len(rows)\n",
    "    counts = uniquecounts(rows)\n",
    "    imp = 0\n",
    "    for k1 in counts.keys():\n",
    "        p1 = float(counts[k1])/total\n",
    "        imp+= p1*(1-p1)\n",
    "    return imp\n",
    "    \n",
    "#misclassification error\n",
    "\n",
    "def mis_error(rows):\n",
    "    total = len(rows)\n",
    "    counts = uniquecounts(rows)\n",
    "    error = 0\n",
    "    for k2 in counts.keys():\n",
    "        p1 = float(counts[k2])/total\n",
    "        if p1 > error:\n",
    "            error = p1\n",
    "    return 1-error"
   ]
  },
  {
   "cell_type": "markdown",
   "id": "9ef8c743",
   "metadata": {},
   "source": [
    "建立決策樹。 rows是資料集，scoref = c(entropy, giniimpurity, mis_error), rule = c(info_gain, gain_ratio)，current_depth目前深度。 hyperparameter:max_depth，default=20"
   ]
  },
  {
   "cell_type": "code",
   "execution_count": 93,
   "id": "22980c44",
   "metadata": {},
   "outputs": [],
   "source": [
    "\n",
    "def buildtree(rows, max_depth=20, scoref = entropy, rule = info_gain, current_depth=1): \n",
    "    if len(rows) == 0 : return decisionnode() # empty data stop\n",
    "    \n",
    "    best_gain = 0.0\n",
    "    best_criteria = None\n",
    "    best_sets = None\n",
    "        \n",
    "    column_count = len(rows[0]) - 1 #feature index\n",
    "    for col in range(0,column_count):#根據每個feture下去分割資料\n",
    "        column_values = {}\n",
    "        for row in rows:\n",
    "            column_values[row[col]] = 1 #初始化\n",
    "        for value in column_values.keys(): #給定一個feature後，根據他的值來分割資料\n",
    "            (set1,set2) = divideset(rows,col,value)\n",
    "\n",
    "            gain = rule(rows, set1, set2, scoref) #可用不同演算法計算gain\n",
    "            \n",
    "            if gain>best_gain:\n",
    "                best_gain = gain\n",
    "                best_criteria = (col,value) #col為最佳feature的column index, 根據value往下建立分支\n",
    "                best_sets = (set1,set2) #選定節點後的兩個分支\n",
    "             \n",
    "    #建立分支\n",
    "    if best_gain>0 and len(set1)>0 and len(set2)>0 and current_depth <= max_depth: #只要現在深度小於等於最大深度，即可往下建立分支\n",
    "        trueBranch = buildtree(best_sets[0], current_depth = current_depth + 1, max_depth = max_depth, rule = rule, scoref = scoref)#hyperparameter傳遞 \n",
    "        falseBranch = buildtree(best_sets[1], current_depth = current_depth +1, max_depth = max_depth, rule = rule, scoref = scoref)\n",
    "        return decisionnode(col = best_criteria[0],value = best_criteria[1],\n",
    "                            tb = trueBranch,fb = falseBranch, depth = current_depth + 1)\n",
    "    else:\n",
    "        return decisionnode(results = uniquecounts(rows), depth=current_depth)"
   ]
  },
  {
   "cell_type": "markdown",
   "id": "d657c7d6",
   "metadata": {},
   "source": [
    "根據testing data中的一個樣本，預測其結果。observation是單一testing data，tree是根據function buildtree建立的決策樹模型。"
   ]
  },
  {
   "cell_type": "code",
   "execution_count": 14,
   "id": "3dab1651",
   "metadata": {},
   "outputs": [],
   "source": [
    "def classify(observation,tree):\n",
    "        if tree.results!= None:\n",
    "            return tree.results\n",
    "        else:\n",
    "            v = observation[tree.col]\n",
    "            branch = None\n",
    "            if isinstance(v,int) or isinstance(v,float):\n",
    "                if v>= tree.value: branch = tree.tb\n",
    "                else: branch = tree.fb\n",
    "            else:\n",
    "                if v==tree.value : branch = tree.tb\n",
    "                else: branch = tree.fb\n",
    "            return classify(observation,branch) \n",
    "        #最終得出結果是該observation落在哪個leaf，output為leaf內label class 個數。 ex. {0:100, 1:36}"
   ]
  },
  {
   "cell_type": "markdown",
   "id": "6380711a",
   "metadata": {},
   "source": [
    "接著預測所有testing data的結果。"
   ]
  },
  {
   "cell_type": "code",
   "execution_count": 38,
   "id": "b5b9bccc",
   "metadata": {},
   "outputs": [],
   "source": [
    "def predict_value(test_data, tree):#est_y為testing data中的label, tree為決策樹模型\n",
    "    preds = []\n",
    "    for obs in test_data:\n",
    "        pred = classify(obs, tree)\n",
    "        preds.append(pred)\n",
    "    mode = []\n",
    "    for pred in preds:\n",
    "        max_value = max(pred.values()) #找出list中每個字典(leaf)中最大的value\n",
    "        max_keys = [k for k, v in pred.items() if v == max_value] #擁有最大value的key，是最終的預測結果\n",
    "        mode.append(max_keys)\n",
    "    y_pred = [m[0] for m in mode] #因為有些沒有眾數，max_keys會有兩個。因此直接選擇第1個key，作為最終結果\n",
    "    return(y_pred)"
   ]
  },
  {
   "cell_type": "markdown",
   "id": "f2614fa3",
   "metadata": {},
   "source": [
    "模型表現的評估，評估方式有Precision、Recall、F1 score、Accuracy。"
   ]
  },
  {
   "cell_type": "code",
   "execution_count": 16,
   "id": "e0b367ad",
   "metadata": {},
   "outputs": [],
   "source": [
    "def evaluate_index(test_y, y_pred): #test_y為testing data中的label，y_pred為各演算法的預測值\n",
    "    evaluate = []\n",
    "    for i, j in zip(test_y, y_pred):\n",
    "        if i == j == 1 : e = 'TP' #true positive\n",
    "        elif i == j == 0 : e = 'TN' #ture negative\n",
    "        elif i == 1 and j == 0: e = 'FN' #false negative\n",
    "        else: e = 'FP' #false positive\n",
    "        evaluate.append(e)\n",
    "    TP = evaluate.count('TP')\n",
    "    TN = evaluate.count('TN')\n",
    "    FP = evaluate.count('FP')\n",
    "    FN = evaluate.count('FN')\n",
    "    accuracy = (TP+TN)/(TP+TN+FP+FN)\n",
    "    precision = TP/(TP+FP)\n",
    "    recall = TP/(TP+FN)\n",
    "    f1 = 2*TP/(2*TP+FP+FN)\n",
    "    evaluate_output = {'Precision': precision,'Recall': recall,'F1 score': f1,'Accuracy': accuracy}                         \n",
    "    evaluate_result = pd.DataFrame.from_dict({'Precision': precision,'Recall': recall,'F1 score': f1,'Accuracy': accuracy}, orient='index')\n",
    "    return(evaluate_result)"
   ]
  },
  {
   "cell_type": "markdown",
   "id": "9dbcdcaf",
   "metadata": {},
   "source": [
    "依據infomation gain，找到該feature最佳分割的值，即根據該值分割後的information gain。"
   ]
  },
  {
   "cell_type": "code",
   "execution_count": 22,
   "id": "9dd6f2a8",
   "metadata": {},
   "outputs": [],
   "source": [
    "def info_feature(rows, col):\n",
    "    best_score = 0\n",
    "    column_v = {}\n",
    "    for row in rows:\n",
    "        column_v[row[col]]=1\n",
    "    for v in column_v.keys():\n",
    "        (set1,set2) = divideset(rows,col,v)\n",
    "        \n",
    "        gain = info_gain(rows, set1, set2)\n",
    "        \n",
    "        if gain > best_score:\n",
    "            best_score = round(gain,4)\n",
    "            v_best = v\n",
    "            feature_list = [v_best, best_score] #v_best為最佳分割的值，best_score為根據該值分割後的information gain。\n",
    "    return feature_list    "
   ]
  },
  {
   "cell_type": "markdown",
   "id": "57493562",
   "metadata": {},
   "source": [
    "計算validation error，使用的是k-fold cross validation，並設k=10."
   ]
  },
  {
   "cell_type": "code",
   "execution_count": 46,
   "id": "b8f40027",
   "metadata": {},
   "outputs": [],
   "source": [
    "def cross(rows, a, b, c): #a = scoref, b=rule, c=max_depth 為buildtree的參數\n",
    "    k = 10\n",
    "    index = len(rows)//k\n",
    "    total_error = 0    \n",
    "    for i in range(k):\n",
    "        u = (i+1)*index-1\n",
    "        valid_list = rows[i*index:u] #validation set\n",
    "        y = [v[9] for v in valid_list] #validation label\n",
    "        train_list = [r for r in rows if r not in valid_list] #其餘的都是training set\n",
    "        tree = buildtree(train_list, scoref=a, rule=b, max_depth = c)#根據training set建立模型\n",
    "        # prediction\n",
    "        y_pred = predict_value(valid_list, tree)\n",
    "        total_error += (1 - accuracy_score(y, y_pred))#計算每次驗證時的error, error = 1-Accuracy\n",
    "    \n",
    "    ave_error = round(total_error/k,4)#10次error的平均\n",
    "    \n",
    "    return(ave_error)"
   ]
  },
  {
   "cell_type": "markdown",
   "id": "59e04606",
   "metadata": {},
   "source": [
    "計算train error。"
   ]
  },
  {
   "cell_type": "code",
   "execution_count": 97,
   "id": "4593ad6a",
   "metadata": {},
   "outputs": [],
   "source": [
    "def train_error(train_data, train_y, a, b, c):\n",
    "    tree = buildtree(train_data, scoref=a, rule=b, max_depth = c)\n",
    "    y_pred = predict_value(train_data, tree)\n",
    "    total_error = 1 - accuracy_score(train_y, y_pred) #training set中的label和預測值之間的error\n",
    "    return round(total_error,4)"
   ]
  },
  {
   "cell_type": "markdown",
   "id": "05914148",
   "metadata": {},
   "source": [
    "train error 和 validation error的圖。"
   ]
  },
  {
   "cell_type": "code",
   "execution_count": 80,
   "id": "5a1033a3",
   "metadata": {},
   "outputs": [],
   "source": [
    "def error_plot(ve, te, title):\n",
    "    data = {'max depth':[3, 7, 11, 15, 19],\n",
    "            'validation error':ve, 'train error':te}\n",
    "    df = pd.DataFrame(data)\n",
    "    df = df.set_index('max depth')\n",
    "    ax = sns.lineplot(data=df)\n",
    "    ax.set_title(title)"
   ]
  },
  {
   "cell_type": "markdown",
   "id": "a5cc3951",
   "metadata": {},
   "source": [
    "## split data to 80/20 and 20/80"
   ]
  },
  {
   "cell_type": "code",
   "execution_count": 4,
   "id": "b9beb51d",
   "metadata": {},
   "outputs": [],
   "source": [
    "df = pd.read_csv(r'C:\\NCKU\\ML\\HW2\\data.csv', index_col = 0)\n",
    "df = df.reset_index()\n",
    "df = df.drop('ID',1)\n",
    "\n",
    "from sklearn.model_selection import train_test_split\n",
    "\n",
    "train, test = train_test_split(df, test_size = 0.2, shuffle=True, random_state=100) #分割80/20資料\n",
    "\n",
    "\n",
    "#轉換資料型態，將每個row都轉為一個list\n",
    "\n",
    "train_list =[] \n",
    "  \n",
    "# Iterate over each row\n",
    "for index, rows in train.iterrows():\n",
    "    # Create list for the current row\n",
    "    my_list =[rows.satisfaction_level, rows.last_evaluation, \n",
    "              rows.number_project, rows.average_montly_hours,\n",
    "              rows.time_spend_company, rows.work_accident,\n",
    "              rows.promotion_last_5years, rows.sales,\n",
    "              rows.salary, rows.left]\n",
    "      \n",
    "    # append the list to the final list\n",
    "    train_list.append(my_list)\n",
    "\n",
    "test_list=[]\n",
    "\n",
    "for index, rows in test.iterrows():\n",
    "    \n",
    "    your_list = [rows.satisfaction_level, rows.last_evaluation, \n",
    "              rows.number_project, rows.average_montly_hours,\n",
    "              rows.time_spend_company, rows.work_accident,\n",
    "              rows.promotion_last_5years, rows.sales,\n",
    "              rows.salary, rows.left]\n",
    "    \n",
    "    test_list.append(your_list)"
   ]
  },
  {
   "cell_type": "code",
   "execution_count": 5,
   "id": "10dfe86c",
   "metadata": {},
   "outputs": [],
   "source": [
    "#20/80\n",
    "train2, test2 = train_test_split(df, test_size = 0.8, shuffle=True, random_state=100) #分割20/80資料\n",
    "\n",
    "#轉換資料型態，將每個row都轉為一個list\n",
    "\n",
    "train2_list =[]\n",
    "  \n",
    "# Iterate over each row\n",
    "for index, rows in train2.iterrows():\n",
    "    # Create list for the current row\n",
    "    my2_list =[rows.satisfaction_level, rows.last_evaluation, \n",
    "              rows.number_project, rows.average_montly_hours,\n",
    "              rows.time_spend_company, rows.work_accident,\n",
    "              rows.promotion_last_5years, rows.sales,\n",
    "              rows.salary, rows.left]\n",
    "      \n",
    "    # append the list to the final list\n",
    "    train2_list.append(my2_list)\n",
    "\n",
    "test2_list=[]\n",
    "\n",
    "for index, rows in test2.iterrows():\n",
    "    \n",
    "    your2_list = [rows.satisfaction_level, rows.last_evaluation, \n",
    "              rows.number_project, rows.average_montly_hours,\n",
    "              rows.time_spend_company, rows.work_accident,\n",
    "              rows.promotion_last_5years, rows.sales,\n",
    "              rows.salary, rows.left]\n",
    "    \n",
    "    test2_list.append(your2_list)\n"
   ]
  },
  {
   "cell_type": "markdown",
   "id": "fa79131c",
   "metadata": {},
   "source": [
    "## problem 1 and problem 2"
   ]
  },
  {
   "cell_type": "markdown",
   "id": "f7f2c6eb",
   "metadata": {},
   "source": [
    "### 80/20 data"
   ]
  },
  {
   "cell_type": "markdown",
   "id": "5e0a402c",
   "metadata": {},
   "source": [
    "由於在分割資料為二分法，因此建立的是binary tree，所以ID3和CART entropy的模型是相同的，因此最終只有4個模型。"
   ]
  },
  {
   "cell_type": "code",
   "execution_count": 39,
   "id": "954997fa",
   "metadata": {},
   "outputs": [],
   "source": [
    "#C4.5演算法\n",
    "c45_1 = buildtree(train_list, rule = gain_ratio) \n",
    "y_c45_1 = predict_value(test_list, c45_1)\n",
    "\n",
    "#Cart entropy\n",
    "c_e_1 = buildtree(train_list) \n",
    "y_ce_1 = predict_value(test_list, c_e_1)\n",
    "\n",
    "#Cart gini impurity\n",
    "c_gini_1 = buildtree(train_list, scoref = giniimpurity)\n",
    "y_cgini_1 = predict_value(test_list, c_gini_1)\n",
    "\n",
    "#Cart misclassification error\n",
    "c_me_1 = buildtree(train_list, scoref = mis_error)\n",
    "y_me_1 = predict_value(test_list, c_me_1)\n"
   ]
  },
  {
   "cell_type": "code",
   "execution_count": 91,
   "id": "fae5f117",
   "metadata": {},
   "outputs": [],
   "source": [
    "test_y = test['left'].tolist() #將testing data中的label轉為list\n",
    "\n",
    "#計算各演算法的evaluation \n",
    "e_1 = evaluate_index(test_y, y_c45_1)\n",
    "e_2 = evaluate_index(test_y, y_cgini_1)\n",
    "e_3 = evaluate_index(test_y, y_me_1)\n",
    "e_4 = evaluate_index(test_y, y_ce_1)\n",
    "\n",
    "df_evaluate = pd.concat([e_1, e_2, e_3, e_4], axis=1)\n",
    "df_evaluate.columns = ['C4.5', 'CART(GINI)', 'CART(ME)', 'CART(GR)']"
   ]
  },
  {
   "cell_type": "markdown",
   "id": "ba8d941d",
   "metadata": {},
   "source": [
    "#### sklearn result\n",
    "用sklearn package 跑出的結果"
   ]
  },
  {
   "cell_type": "code",
   "execution_count": 35,
   "id": "4c6bd87c",
   "metadata": {},
   "outputs": [],
   "source": [
    "from sklearn.tree import DecisionTreeClassifier\n",
    "train_x = train.iloc[:,:-1]\n",
    "train_y = train.iloc[:,-1]\n",
    "\n",
    "from sklearn import preprocessing #recode dataset\n",
    "le = preprocessing.LabelEncoder()\n",
    "for i in range(9):\n",
    "    train_x.iloc[:,i] = le.fit_transform(train_x.iloc[:,i])\n",
    "    test.iloc[:,i] = le.fit_transform(test.iloc[:,i])\n",
    "\n",
    "tree_clf = DecisionTreeClassifier(max_depth = 20, random_state=42)\n",
    "tree_clf.fit(train_x, train_y)\n",
    "y_pred = tree_clf.predict(test.iloc[:,:-1])\n",
    "\n",
    "sk_1 = evaluate_index(test_y, y_pred)"
   ]
  },
  {
   "cell_type": "markdown",
   "id": "07194750",
   "metadata": {},
   "source": [
    "### 20/80"
   ]
  },
  {
   "cell_type": "code",
   "execution_count": 41,
   "id": "98b726ec",
   "metadata": {},
   "outputs": [],
   "source": [
    "#C4.5演算法\n",
    "c45_2= buildtree(train2_list, rule = gain_ratio)\n",
    "y_c45_2 = predict_value(test2_list, c45_2)\n",
    "\n",
    "#Cart entropy\n",
    "c_e_2 = buildtree(train2_list) #cart entropy\n",
    "y_ce_2 = predict_value(test2_list, c_e_2)\n",
    "\n",
    "#Cart gini impurity\n",
    "c_gini_2 = buildtree(train2_list, scoref = giniimpurity)\n",
    "y_cgini_2 = predict_value(test2_list, c_gini_2)\n",
    "\n",
    "#Cart misclassification error\n",
    "c_me_2 = buildtree(train2_list, scoref = mis_error)\n",
    "y_me_2 = predict_value(test2_list, c_me_2)\n"
   ]
  },
  {
   "cell_type": "code",
   "execution_count": 92,
   "id": "e2973fbe",
   "metadata": {},
   "outputs": [],
   "source": [
    "test2_y = test2['left'].tolist() #將testing data中的label轉為list\n",
    "\n",
    "#計算各演算法的evaluation\n",
    "e_5 = evaluate_index(test2_y, y_c45_2)\n",
    "e_6 = evaluate_index(test2_y, y_cgini_2)\n",
    "e_7 = evaluate_index(test2_y, y_me_2)\n",
    "e_8 = evaluate_index(test2_y, y_ce_2)\n",
    "\n",
    "df_evaluate_2 = pd.concat([e_5, e_6, e_7, e_8], axis=1)\n",
    "df_evaluate_2.columns = ['C4.5', 'CART(GINI)', 'CART(ME)', 'CART(GR)']"
   ]
  },
  {
   "cell_type": "markdown",
   "id": "035c0c5a",
   "metadata": {},
   "source": [
    "### sklearn result\n",
    "用sklearn package 跑出的結果"
   ]
  },
  {
   "cell_type": "code",
   "execution_count": 36,
   "id": "2c94c214",
   "metadata": {},
   "outputs": [],
   "source": [
    "le = preprocessing.LabelEncoder()\n",
    "for i in range(9):\n",
    "    train2.iloc[:,i] = le.fit_transform(train2.iloc[:,i]) #recode dataset\n",
    "    test2.iloc[:,i] = le.fit_transform(test2.iloc[:,i])\n",
    "\n",
    "tree_clf2 = DecisionTreeClassifier(max_depth = 20, random_state=42)\n",
    "tree_clf2.fit(train2.iloc[:,:-1], train2.iloc[:,-1])\n",
    "y_pred2 = tree_clf2.predict(test2.iloc[:,:-1])\n",
    "\n",
    "sk_2 = evaluate_index(test2_y, y_pred2)"
   ]
  },
  {
   "cell_type": "markdown",
   "id": "de53ee03",
   "metadata": {},
   "source": [
    "### final comparison\n",
    "#### 80/20 splitting"
   ]
  },
  {
   "cell_type": "code",
   "execution_count": 94,
   "id": "f05d231f",
   "metadata": {},
   "outputs": [
    {
     "name": "stdout",
     "output_type": "stream",
     "text": [
      "               C4.5  CART(GINI)  CART(ME)  CART(GE)  sklearn output\n",
      "Precision  0.942460    0.922780  0.974286  0.917466        0.914634\n",
      "Recall     0.948104    0.954092  0.680639  0.954092        0.898204\n",
      "F1 score   0.945274    0.938175  0.801410  0.935421        0.906344\n",
      "Accuracy   0.975534    0.971975  0.924822  0.970641        0.958630\n"
     ]
    }
   ],
   "source": [
    "df_evaluate = pd.concat([e_1, e_2, e_3, e_4, sk_1], axis=1)\n",
    "df_evaluate.columns = ['C4.5', 'CART(GINI)', 'CART(ME)', 'CART(GE)', 'sklearn output']\n",
    "print(df_evaluate)"
   ]
  },
  {
   "cell_type": "markdown",
   "id": "e4b28de2",
   "metadata": {},
   "source": [
    "在80/20分割資料集中，發現除了misclassification error外，其餘算法預測都比sklearn佳。大致來看，其中C4.5及Cart gini較佳，接著才是Caart entropy。由於此筆資料的label 0和1的比例不平衡，因此Accuracy不是一個最好的評估標準。F1 score是Precision和Recall的調和平均數，因此同時考量兩個評估方式，所以我認為以這筆資料來說，F1 Score是四個當中最佳的評估方式。所以根據F1 score，四種演算法表現排名為C4.5 > CART(GINI) > CART(GE)>CART(ME)。"
   ]
  },
  {
   "cell_type": "markdown",
   "id": "945127d0",
   "metadata": {},
   "source": [
    "#### 20/80 splitting"
   ]
  },
  {
   "cell_type": "code",
   "execution_count": 45,
   "id": "9b85c230",
   "metadata": {},
   "outputs": [
    {
     "name": "stdout",
     "output_type": "stream",
     "text": [
      "               C4.5  CART(GINI)  CART(ME)  CART(GR)  sklearn output\n",
      "Precision  0.922896    0.897506  0.827510  0.895333        0.892162\n",
      "Recall     0.923330    0.930856  0.701787  0.929445        0.883349\n",
      "F1 score   0.923113    0.913877  0.759481  0.912070        0.887733\n",
      "Accuracy   0.963630    0.958514  0.894895  0.957624        0.947169\n"
     ]
    }
   ],
   "source": [
    "df_evaluate_2 = pd.concat([e_5, e_6, e_7, e_8, sk_2], axis=1)\n",
    "df_evaluate_2.columns = ['C4.5', 'CART(GINI)', 'CART(ME)', 'CART(GR)', 'sklearn output']\n",
    "print(df_evaluate_2)"
   ]
  },
  {
   "cell_type": "markdown",
   "id": "1d34fe5d",
   "metadata": {},
   "source": [
    "在20/80分割資料集中，發現除了misclassification error外，其餘算法預測都比sklearn佳。根據F1 score，四種演算法表現排名為C4.5 > CART(GINI) > CART(GE)>CART(ME)。當training data樣本數下降時，所有方法預測精準度皆下降，可發現sklearn的下降程度較其他演算法低，表示其較不受資料量的影響。在其餘演算法中，Misclassification Error最受資料量影響，因為其下降程度較大；C4.5則最不受資料量影響。"
   ]
  },
  {
   "cell_type": "markdown",
   "id": "8f0b11fa",
   "metadata": {},
   "source": [
    "## problem 3"
   ]
  },
  {
   "cell_type": "code",
   "execution_count": 23,
   "id": "7dd4b0e1",
   "metadata": {},
   "outputs": [
    {
     "name": "stdout",
     "output_type": "stream",
     "text": [
      "                            value  information gain\n",
      "satisfaction_level           0.47            0.1986\n",
      "last_evaluation              0.58            0.0271\n",
      "number_project                  3            0.1197\n",
      "average_montly_hours          288            0.0508\n",
      "time_spend_company              3            0.0764\n",
      "work_accident                   1            0.0198\n",
      "promotion_last_5years           1            0.0045\n",
      "sales                  management            0.0020\n",
      "salary                       high            0.0142\n"
     ]
    }
   ],
   "source": [
    "a0 =info_feature(train_list, 0) \n",
    "a1 =info_feature(train_list, 1) \n",
    "a2 =info_feature(train_list, 2) \n",
    "a3 =info_feature(train_list, 3) \n",
    "a4 =info_feature(train_list, 4) \n",
    "a5 =info_feature(train_list, 5) \n",
    "a6 =info_feature(train_list, 6)\n",
    "a7 =info_feature(train_list, 7)\n",
    "a8 =info_feature(train_list, 8)\n",
    "\n",
    "data = {'satisfaction_level' : a0,\n",
    "        'last_evaluation': a1,\n",
    "        'number_project':a2,\n",
    "        'average_montly_hours':a3,\n",
    "        'time_spend_company':a4,\n",
    "        'work_accident':a5,\n",
    "        'promotion_last_5years':a6,\n",
    "        'sales':a7,\n",
    "        'salary':a8}\n",
    "\n",
    "df_feature = pd.DataFrame.from_dict(data, orient='index')\n",
    "df_feature.columns=['value', 'information gain']\n",
    "print(df_feature)"
   ]
  },
  {
   "cell_type": "markdown",
   "id": "2a18df13",
   "metadata": {},
   "source": [
    "根據information gain, satisfication_level最高，因此選定他為最具可預測性的feature，接著用satisfication_level=0.47來分割資料，判斷第二個具可預測性的feature。我選定satification level>= 0.47的分支再往下分割資料。"
   ]
  },
  {
   "cell_type": "code",
   "execution_count": 24,
   "id": "dc56a4d3",
   "metadata": {},
   "outputs": [
    {
     "name": "stdout",
     "output_type": "stream",
     "text": [
      "                            value  information gain\n",
      "last_evaluation              0.82            0.0800\n",
      "number_project                  5            0.0371\n",
      "average_montly_hours          217            0.0701\n",
      "time_spend_company              5            0.1793\n",
      "work_accident                   1            0.0104\n",
      "promotion_last_5years           1            0.0028\n",
      "sales                  management            0.0015\n",
      "salary                       high            0.0068\n"
     ]
    }
   ],
   "source": [
    "c = divideset(train_list, 0, 0.47) #satification level, split value =0.47\n",
    "\n",
    "b1 =info_feature(c[0], 1) #選定satification level>= 0.47下去分割資料\n",
    "b2 =info_feature(c[0], 2) \n",
    "b3 =info_feature(c[0], 3) \n",
    "b4 =info_feature(c[0], 4) \n",
    "b5 =info_feature(c[0], 5) \n",
    "b6 =info_feature(c[0], 6) \n",
    "b7 =info_feature(c[0], 7) \n",
    "b8 =info_feature(c[0], 8)\n",
    "\n",
    "data_2 = {'last_evaluation': b1,\n",
    "        'number_project':b2,\n",
    "        'average_montly_hours':b3,\n",
    "        'time_spend_company':b4,\n",
    "        'work_accident':b5,\n",
    "        'promotion_last_5years':b6,\n",
    "        'sales':b7,\n",
    "        'salary':b8}\n",
    "\n",
    "df_feature_2 = pd.DataFrame.from_dict(data_2, orient='index')\n",
    "df_feature_2.columns=['value', 'information gain']\n",
    "print(df_feature_2)"
   ]
  },
  {
   "cell_type": "markdown",
   "id": "484f0801",
   "metadata": {},
   "source": [
    "根據information gain, time_spend_company最高。因此選定satisfication_level、time_spend_company來看label的分布。"
   ]
  },
  {
   "cell_type": "code",
   "execution_count": 14,
   "id": "7814819a",
   "metadata": {},
   "outputs": [
    {
     "data": {
      "image/png": "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\n",
      "text/plain": [
       "<Figure size 432x288 with 1 Axes>"
      ]
     },
     "metadata": {
      "needs_background": "light"
     },
     "output_type": "display_data"
    }
   ],
   "source": [
    "import matplotlib.pyplot as plt\n",
    "fig, ax = plt.subplots()\n",
    "sc = ax.scatter(train['satisfaction_level'], train['time_spend_company'], marker = 'o', c = train['left'], alpha = 0.8)\n",
    "ax.set_xlabel('satisfaction_level')\n",
    "ax.set_ylabel('time_spend_company')\n",
    "ax.legend(*sc.legend_elements(), title = 'left')\n",
    "plt.show()"
   ]
  },
  {
   "cell_type": "markdown",
   "id": "8caaf617",
   "metadata": {},
   "source": [
    "可看出satisfication_level大於等於0.47明顯大多數為0，但是time_spend_company則是大於6才有明顯大多數為0。"
   ]
  },
  {
   "cell_type": "markdown",
   "id": "8108f348",
   "metadata": {},
   "source": [
    "## problem 4"
   ]
  },
  {
   "cell_type": "markdown",
   "id": "52a9fced",
   "metadata": {},
   "source": [
    "### CART-entropy"
   ]
  },
  {
   "cell_type": "code",
   "execution_count": 57,
   "id": "367dbb5d",
   "metadata": {},
   "outputs": [],
   "source": [
    "#validation error\n",
    "entropy_ve=[]\n",
    "for j in range(3,20,4):\n",
    "    error_e = cross(train_list, a =entropy, b= info_gain, c=j)\n",
    "    entropy_ve.append(error_e)"
   ]
  },
  {
   "cell_type": "code",
   "execution_count": 99,
   "id": "8d7d0f02",
   "metadata": {},
   "outputs": [],
   "source": [
    "#train error\n",
    "train_y = train['left'].tolist()\n",
    "entropy_te =[]\n",
    "for j in range(3, 20, 4):\n",
    "    e_t_e = train_error(train_list, train_y, a = entropy, b = info_gain, c = j)\n",
    "    entropy_te.append(e_t_e)"
   ]
  },
  {
   "cell_type": "code",
   "execution_count": 102,
   "id": "4409051c",
   "metadata": {},
   "outputs": [],
   "source": [
    "ve1 = entropy_ve\n",
    "te1 = entropy_te"
   ]
  },
  {
   "cell_type": "markdown",
   "id": "a4e3239e",
   "metadata": {},
   "source": [
    "### CART-gini"
   ]
  },
  {
   "cell_type": "code",
   "execution_count": 59,
   "id": "0d8604ab",
   "metadata": {},
   "outputs": [],
   "source": [
    "#validation error\n",
    "gini_ve=[]\n",
    "for j in range(3,20,4):\n",
    "    error_g = cross(train_list, a = giniimpurity, b= info_gain, c=j)\n",
    "    gini_ve.append(error_g)"
   ]
  },
  {
   "cell_type": "code",
   "execution_count": 100,
   "id": "badd300e",
   "metadata": {},
   "outputs": [],
   "source": [
    "#train error\n",
    "gini_te =[]\n",
    "for j in range(3, 20, 4):\n",
    "    e_t_g = train_error(train_list, train_y, a = giniimpurity, b = info_gain, c = j)\n",
    "    gini_te.append(e_t_g)"
   ]
  },
  {
   "cell_type": "code",
   "execution_count": 103,
   "id": "614794b2",
   "metadata": {},
   "outputs": [],
   "source": [
    "ve2 = gini_ve\n",
    "te2 = gini_te"
   ]
  },
  {
   "cell_type": "markdown",
   "id": "d7158efc",
   "metadata": {},
   "source": [
    "### CART-misclassification error"
   ]
  },
  {
   "cell_type": "code",
   "execution_count": 61,
   "id": "e9d1b079",
   "metadata": {},
   "outputs": [],
   "source": [
    "#validation error\n",
    "me_ve=[]\n",
    "for j in range(3,20,4):\n",
    "    error_m = cross(train_list, a = mis_error, b= info_gain, c=j)\n",
    "    me_ve.append(error_m)"
   ]
  },
  {
   "cell_type": "code",
   "execution_count": 101,
   "id": "f355b430",
   "metadata": {},
   "outputs": [],
   "source": [
    "#train error\n",
    "me_te =[]\n",
    "for j in range(3, 20, 4):\n",
    "    e_t_m = train_error(train_list, train_y, a = mis_error, b = info_gain, c = j)\n",
    "    me_te.append(e_t_m)"
   ]
  },
  {
   "cell_type": "code",
   "execution_count": 104,
   "id": "54481ea6",
   "metadata": {},
   "outputs": [],
   "source": [
    "ve3 = me_ve\n",
    "te3 = me_te"
   ]
  },
  {
   "cell_type": "markdown",
   "id": "bcfa2ea3",
   "metadata": {},
   "source": [
    "### comparison"
   ]
  },
  {
   "cell_type": "code",
   "execution_count": 105,
   "id": "a47c6158",
   "metadata": {},
   "outputs": [
    {
     "name": "stdout",
     "output_type": "stream",
     "text": [
      "           validation error  train error\n",
      "max depth                               \n",
      "3                    0.0538       0.0486\n",
      "7                    0.0248       0.0198\n",
      "11                   0.0288       0.0129\n",
      "15                   0.0347       0.0079\n",
      "19                   0.0375       0.0061\n"
     ]
    },
    {
     "data": {
      "image/png": "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\n",
      "text/plain": [
       "<Figure size 432x288 with 1 Axes>"
      ]
     },
     "metadata": {
      "needs_background": "light"
     },
     "output_type": "display_data"
    }
   ],
   "source": [
    "dt_error = {'max depth': [3, 7, 11, 15, 19],'validation error':ve1,\n",
    "            'train error':te1}\n",
    "df_error = pd.DataFrame(dt_error)\n",
    "df_error = df_error.set_index('max depth')\n",
    "print(df_error)\n",
    "\n",
    "error_plot(ve1, te1, 'CART entropy')"
   ]
  },
  {
   "cell_type": "markdown",
   "id": "6727eadf",
   "metadata": {},
   "source": [
    "validation error在max depth在7至11達到最低點，因此max_depth最佳選擇為7到11，往後validation error增加，會有overfitting問題。"
   ]
  },
  {
   "cell_type": "code",
   "execution_count": 106,
   "id": "97b53a71",
   "metadata": {},
   "outputs": [
    {
     "name": "stdout",
     "output_type": "stream",
     "text": [
      "           validation error  train error\n",
      "max depth                               \n",
      "3                    0.0513       0.0485\n",
      "7                    0.0236       0.0184\n",
      "11                   0.0296       0.0108\n",
      "15                   0.0360       0.0053\n",
      "19                   0.0380       0.0043\n"
     ]
    },
    {
     "data": {
      "image/png": "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\n",
      "text/plain": [
       "<Figure size 432x288 with 1 Axes>"
      ]
     },
     "metadata": {
      "needs_background": "light"
     },
     "output_type": "display_data"
    }
   ],
   "source": [
    "dt_error2 = {'max depth': [3, 7, 11, 15, 19],'validation error':ve2,\n",
    "            'train error':te2}\n",
    "df_error2 = pd.DataFrame(dt_error2)\n",
    "df_error2 = df_error2.set_index('max depth')\n",
    "print(df_error2)\n",
    "\n",
    "error_plot(ve2, te2, 'CART gini impurity')"
   ]
  },
  {
   "cell_type": "markdown",
   "id": "337bed5f",
   "metadata": {},
   "source": [
    "validation error在max depth在7至11達到最低點，因此max_depth最佳選擇為7到11，往後validation error增加，會有overfitting問題。"
   ]
  },
  {
   "cell_type": "code",
   "execution_count": 107,
   "id": "33ae616f",
   "metadata": {},
   "outputs": [
    {
     "name": "stdout",
     "output_type": "stream",
     "text": [
      "           validation error  train error\n",
      "max depth                               \n",
      "3                    0.0862       0.1141\n",
      "7                    0.0664       0.0980\n",
      "11                   0.0508       0.0666\n",
      "15                   0.0496       0.0662\n",
      "19                   0.0496       0.0662\n"
     ]
    },
    {
     "data": {
      "image/png": "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\n",
      "text/plain": [
       "<Figure size 432x288 with 1 Axes>"
      ]
     },
     "metadata": {
      "needs_background": "light"
     },
     "output_type": "display_data"
    }
   ],
   "source": [
    "dt_error3 = {'max depth': [3, 7, 11, 15, 19],'validation error':ve3,\n",
    "            'train error':te3}\n",
    "df_error3 = pd.DataFrame(dt_error3)\n",
    "df_error3 = df_error3.set_index('max depth')\n",
    "print(df_error3)\n",
    "\n",
    "\n",
    "error_plot(ve3, te3, 'CART misclassification error')"
   ]
  },
  {
   "cell_type": "markdown",
   "id": "4e3d9e43",
   "metadata": {},
   "source": [
    "由於其train error高於validation error，這個演算法不適合這筆資料。正常來說validation error會大於train error，如果接近且值都很低表示模型是個good fit。若train error持續下降，validation error開始增加，可能會開始有overfitting問題。"
   ]
  },
  {
   "cell_type": "markdown",
   "id": "26eb49a8",
   "metadata": {},
   "source": [
    "## Reference\n",
    "https://zhuanlan.zhihu.com/p/20794583"
   ]
  }
 ],
 "metadata": {
  "kernelspec": {
   "display_name": "Python 3",
   "language": "python",
   "name": "python3"
  },
  "language_info": {
   "codemirror_mode": {
    "name": "ipython",
    "version": 3
   },
   "file_extension": ".py",
   "mimetype": "text/x-python",
   "name": "python",
   "nbconvert_exporter": "python",
   "pygments_lexer": "ipython3",
   "version": "3.8.8"
  }
 },
 "nbformat": 4,
 "nbformat_minor": 5
}
